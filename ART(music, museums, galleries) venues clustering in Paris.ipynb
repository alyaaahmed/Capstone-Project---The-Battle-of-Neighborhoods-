{
 "cells": [
  {
   "cell_type": "markdown",
   "metadata": {},
   "source": [
    "# ART(music, museums, galleries) venues clustering in Paris"
   ]
  },
  {
   "cell_type": "markdown",
   "metadata": {},
   "source": [
    "### Introduction:\n"
   ]
  },
  {
   "cell_type": "markdown",
   "metadata": {},
   "source": [
    "###### background"
   ]
  },
  {
   "cell_type": "markdown",
   "metadata": {},
   "source": [
    "Paris boasts some of the most famous and important art galleries and museums in the world and is the home of priceless iconic artworks dating back thousands of years, to modern and contemporary artists. "
   ]
  },
  {
   "cell_type": "markdown",
   "metadata": {},
   "source": [
    "###### Business Problem"
   ]
  },
  {
   "cell_type": "markdown",
   "metadata": {},
   "source": [
    "The purpose of this project is to help people in exploring the best and most famous Art place in Paris. It will help people making smart and efficient decisions in  saved money  and time\n",
    "\n",
    "Paris is known as the city of art and many art lovers would like to visit this project is for those people who are looking for the best Art place  \n",
    "\n",
    "This analysis seeks to present the distribution of art places referenced on Foursquare, with a summary analysis on their geographical distribution and with respect to their category.\n",
    "\n",
    "\n"
   ]
  },
  {
   "cell_type": "markdown",
   "metadata": {},
   "source": [
    "###### Data"
   ]
  },
  {
   "cell_type": "markdown",
   "metadata": {},
   "source": [
    "###### Data collection stage\n",
    "The main points with their location and category will be retrieved from Foursquare databases using their URL API.\n",
    "\n",
    "also\n",
    "http://tour-pedia.org/about/datasets.html\n",
    "Datasets\n",
    "TourPedia contains two main datasets, which belong to the specific domain of tourism:\n",
    "\n",
    "Places\n",
    "Reviews about places\n",
    "License\n",
    "Tourpedia is released under the Creative Commons CCZero license.\n",
    "\n",
    "Places\n",
    "Places contain accommodations, restaurants, attractions and points of interest. Places were retrieved from the following social media: Facebook, Foursquare, Google Places, and Booking. \n",
    "\n",
    "\n",
    "The following table shows the description of each place\n",
    "\n",
    "These data set could help better to cluster their venues.\n",
    "From the Foursquare API, \n",
    "\n",
    ".The following table shows the description of each place.\n",
    "\n",
    "Field\tDescription\n",
    "id\tthe unique identifier of the place\n",
    "name\tname of the place (e.g. a hotel name)\n",
    "address\taddress of the place\n",
    "category\tone among accommodation, attraction, restaurant, poi (point of interest)\n",
    "location\tone among Rome, Amsterdam, London, Paris, Berlin, Dubai, Barcelona, Tuscany\n",
    "lat\tLatitude\n",
    "lng\tLongitude\n",
    "services\tthe list of services provided by the place. It is set only if the place is an accommodation.\n",
    "phone_number\tnational phone number associated to the place\n",
    "international_phone_number\tinternational phone number associated to the place\n",
    "website\tURL of the web site associated to the place\n",
    "Icon\tpicture associated to the place\n",
    "description\tdescription of the place in the six languages of the OpeNER project\n",
    "external_urls\texternal URLs associated to the place. It contains the URLs of Foursquare, Facebook, GooglePlaces and Booking (the last one is present only whether the place is an accommodation)\n",
    "statistics\tstatistics associated to the place; they are retrieved from Foursquare and Facebook\n",
    "subCategory\tThe category provided by the source. It is more specific than the field category\n",
    "polarity\tThe opinion about the place\n",
    "Reviews\n",
    "The collection Reviews contains reviews on the above-described places. The following table describes the schema of each review.\n",
    "\n",
    "Field\tDescription\n",
    "Id\tthe unique identifier of the review\n",
    "Text\tthe text of the review\n",
    "language\tThe language of the review\n",
    "source\tone among GooglePlaces, Foursquare, Facebook\n",
    "rating\tRating expressed by the user. Range is between 1 and 5\n",
    "Time\tDate of the review\n",
    "wordsCount\tNumber of words of the text\n",
    "analysis.kaf\tThe result of the OpeNER pipeline in KAF\n",
    "analysis.json\tThe result of the OpeNER pipeline in KAF-JSON\n",
    "polarity\tThe polarity of the review. It is extracted from the Polarity tagger module\n",
    "place.id\tid of the place associated to the review\n",
    "place.name\tName of the place associated to the review\n",
    "place.location\tLocation of the place associated to the review\n",
    "place.category\tCategory of the place associated to the review\n",
    "authorName\tThe name of the review author"
   ]
  },
  {
   "cell_type": "markdown",
   "metadata": {},
   "source": [
    "###### Target audience\n"
   ]
  },
  {
   "cell_type": "markdown",
   "metadata": {},
   "source": [
    " who love Paris and art"
   ]
  },
  {
   "cell_type": "markdown",
   "metadata": {},
   "source": [
    "###### Foursquare API:"
   ]
  },
  {
   "cell_type": "markdown",
   "metadata": {},
   "source": [
    "This project would use Four-square API as its prime data gathering source as it has a database of millions of places, especially their places API which provides the ability to perform location search, location sharing and details about a business."
   ]
  },
  {
   "cell_type": "markdown",
   "metadata": {},
   "source": [
    "###### Work Flow:"
   ]
  },
  {
   "cell_type": "markdown",
   "metadata": {},
   "source": [
    "\n",
    "Using credentials of Foursquare API features of near-by places of the neighborhoods would be mined. Due to http request limitations the number of places per neighborhood parameter would reasonably be set to 100 and the radius parameter would be set to 500."
   ]
  },
  {
   "cell_type": "markdown",
   "metadata": {},
   "source": [
    "###### Clustering Approach:\n"
   ]
  },
  {
   "cell_type": "markdown",
   "metadata": {},
   "source": [
    "we need to cluster data which is a form of unsupervised machine learning: k-means clustering algorithm"
   ]
  },
  {
   "cell_type": "markdown",
   "metadata": {},
   "source": [
    "###### Libraries Which are Used to Develope the Project:\n"
   ]
  },
  {
   "cell_type": "markdown",
   "metadata": {},
   "source": [
    "Pandas: For creating and manipulating dataframes.\n",
    "\n",
    "Folium: Python visualization library would be used to visualize the neighborhoods cluster distribution of using interactive leaflet map.\n",
    "\n",
    "Scikit Learn: For importing k-means clustering.\n",
    "\n",
    "JSON: Library to handle JSON files.\n",
    "\n",
    "XML: To separate data from presentation and XML stores data in plain text format.\n",
    "\n",
    "Geocoder: To retrieve Location Data.\n",
    "\n",
    "Beautiful Soup and Requests: To scrap and library to handle http requests.\n",
    "\n",
    "Matplotlib: Python Plotting Module."
   ]
  },
  {
   "cell_type": "code",
   "execution_count": null,
   "metadata": {},
   "outputs": [],
   "source": []
  }
 ],
 "metadata": {
  "kernelspec": {
   "display_name": "Python 3",
   "language": "python",
   "name": "python3"
  },
  "language_info": {
   "codemirror_mode": {
    "name": "ipython",
    "version": 3
   },
   "file_extension": ".py",
   "mimetype": "text/x-python",
   "name": "python",
   "nbconvert_exporter": "python",
   "pygments_lexer": "ipython3",
   "version": "3.8.5"
  }
 },
 "nbformat": 4,
 "nbformat_minor": 4
}
