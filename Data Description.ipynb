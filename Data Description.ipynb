{
 "cells": [
  {
   "cell_type": "markdown",
   "metadata": {},
   "source": [
    "### ART(music, museums, galleries) venues clustering in Paris"
   ]
  },
  {
   "cell_type": "markdown",
   "metadata": {},
   "source": [
    "###### Data collection stage"
   ]
  },
  {
   "cell_type": "markdown",
   "metadata": {},
   "source": [
    " http://tour-pedia.org/about/datasets.html "
   ]
  },
  {
   "cell_type": "markdown",
   "metadata": {},
   "source": [
    "The main points with their location and category will be retrieved from Foursquare databases using their URL API.\n",
    "\n",
    "also http://tour-pedia.org/about/datasets.html Datasets TourPedia contains two main datasets, which belong to the specific domain of tourism:\n",
    "\n",
    "Places Reviews about places License Tourpedia is released under the Creative Commons CCZero license.\n",
    "\n",
    "Places Places contain accommodations, restaurants, attractions and points of interest. Places were retrieved from the following social media: Facebook, Foursquare, Google Places, and Booking.\n",
    "\n",
    "The following table shows the description of each place\n",
    "\n",
    "These data set could help better to cluster their venues. From the Foursquare API,\n",
    "\n",
    ".The following table shows the description of each place.\n",
    "\n",
    "Field Description id the unique identifier of the place name name of the place (e.g. a hotel name) address address of the place category one among accommodation, attraction, restaurant, poi (point of interest) location one among Rome, Amsterdam, London, Paris, Berlin, Dubai, Barcelona, Tuscany lat Latitude lng Longitude services the list of services provided by the place. It is set only if the place is an accommodation. phone_number national phone number associated to the place international_phone_number international phone number associated to the place website URL of the web site associated to the place Icon picture associated to the place description description of the place in the six languages of the OpeNER project external_urls external URLs associated to the place. It contains the URLs of Foursquare, Facebook, GooglePlaces and Booking (the last one is present only whether the place is an accommodation) statistics statistics associated to the place; they are retrieved from Foursquare and Facebook subCategory The category provided by the source. It is more specific than the field category polarity The opinion about the place Reviews The collection Reviews contains reviews on the above-described places. The following table describes the schema of each review.\n",
    "\n",
    "Field Description Id the unique identifier of the review Text the text of the review language The language of the review source one among GooglePlaces, Foursquare, Facebook rating Rating expressed by the user. Range is between 1 and 5 Time Date of the review wordsCount Number of words of the text analysis.kaf The result of the OpeNER pipeline in KAF analysis.json The result of the OpeNER pipeline in KAF-JSON polarity The polarity of the review. It is extracted from the Polarity tagger module place.id id of the place associated to the review place.name Name of the place associated to the review place.location Location of the place associated to the review place.category Category of the place associated to the review authorName The name of the review author"
   ]
  },
  {
   "cell_type": "markdown",
   "metadata": {},
   "source": [
    "###### Foursquare API Data:\n"
   ]
  },
  {
   "cell_type": "markdown",
   "metadata": {},
   "source": [
    "###### We will need data about different venues in different places of that specific category. In order to gain that information, we will use \"Foursquare\" locational information. Foursquare is a location data provider with information about all manner of venues and events within an area of interest. Such information includes venue names, locations, menus, and even photos. As such, the foursquare location platform will be used as the sole data source since all the stated required information can be obtained through the API.\n",
    "\n",
    "After finding the list of categories, we then connect to the Foursquare API to gather information about venues inside each and every neighborhood. \n",
    "\n",
    "The data retrieved from Foursquare contained information of venues within a specified distance of the longitude and latitude of the postcodes. The information obtained per venue as follows:\n",
    "\n",
    "1. name\n",
    "2. categories\t\n",
    "3. Neighborhood\n",
    "4. lat\n",
    "5. Longitude\n",
    "6. address\n"
   ]
  },
  {
   "cell_type": "code",
   "execution_count": null,
   "metadata": {},
   "outputs": [],
   "source": []
  }
 ],
 "metadata": {
  "kernelspec": {
   "display_name": "Python 3",
   "language": "python",
   "name": "python3"
  },
  "language_info": {
   "codemirror_mode": {
    "name": "ipython",
    "version": 3
   },
   "file_extension": ".py",
   "mimetype": "text/x-python",
   "name": "python",
   "nbconvert_exporter": "python",
   "pygments_lexer": "ipython3",
   "version": "3.8.5"
  }
 },
 "nbformat": 4,
 "nbformat_minor": 4
}
